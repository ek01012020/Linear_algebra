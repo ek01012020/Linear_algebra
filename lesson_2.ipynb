{
 "cells": [
  {
   "cell_type": "markdown",
   "metadata": {},
   "source": [
    "## Матрицы и матричные операции. Часть 1"
   ]
  },
  {
   "cell_type": "markdown",
   "metadata": {},
   "source": [
    "Все задания рекомендуется делать вручную, затем проверяя полученные результаты с использованием numpy.\n",
    "\n",
    "__Задание 1__  \n",
    "Установить, какие произведения матриц $AB$ и $BA$ определены, и найти размерности полученных матриц:\n",
    "\n",
    "   а) $A$ — матрица $4\\times 2$, $B$ — матрица $4\\times 2$;\n",
    "    \n",
    "   б) $A$ — матрица $2\\times 5$, $B$ — матрица $5\\times 3$;\n",
    "    \n",
    "   в) $A$ — матрица $8\\times 3$, $B$ — матрица $3\\times 8$;\n",
    "    \n",
    "   г) $A$ — квадратная матрица $4\\times 4$, $B$ — квадратная матрица $4\\times 4$."
   ]
  },
  {
   "cell_type": "markdown",
   "metadata": {},
   "source": [
    "Матричное умножение возможно, когда количество столбцов первой матрицы равно количеству строк второй, а каждый новый элемент это скалярное произведение вектор-строки первой матрицы на вектор-столбец второй.  \n",
    "Исходя из вышесказанного:\n",
    "\n",
    "   а) произведение матриц не определено;\n",
    "    \n",
    "   б) $AB$ — произведение определено, размерность $2\\times 3$; $BA$ - не определено;\n",
    "    \n",
    "   в) $AB$ — произведение определено, размерность $8\\times 8$; $BA$ - определено, размерность $3\\times 3$;\n",
    "    \n",
    "   г) $AB$ — произведение определено, размерность $4\\times 4$; $BA$ - определено, размерность $4\\times 4$."
   ]
  },
  {
   "cell_type": "code",
   "execution_count": 1,
   "metadata": {},
   "outputs": [],
   "source": [
    "import numpy as np\n",
    "\n",
    "def ab_ba(size_a, size_b):\n",
    "    try:\n",
    "        np.dot(np.zeros(size_a), np.zeros(size_b))\n",
    "    except ValueError:\n",
    "        print(f'произведения матриц AB не определено')\n",
    "    else:\n",
    "        print(f'произведения матриц AB определено, размерность {np.dot(np.zeros(size_a), np.zeros(size_b)).shape}')\n",
    "    try:\n",
    "        np.dot(np.zeros(size_b), np.zeros(size_a))\n",
    "    except ValueError:\n",
    "        print(f'произведения матриц BA не определено')\n",
    "    else:\n",
    "        print(f'произведения матриц BA определено, размерность {np.dot(np.zeros(size_b), np.zeros(size_a)).shape}')"
   ]
  },
  {
   "cell_type": "code",
   "execution_count": 2,
   "metadata": {},
   "outputs": [
    {
     "name": "stdout",
     "output_type": "stream",
     "text": [
      "произведения матриц AB не определено\n",
      "произведения матриц BA не определено\n",
      "произведения матриц AB определено, размерность (2, 3)\n",
      "произведения матриц BA не определено\n",
      "произведения матриц AB определено, размерность (8, 8)\n",
      "произведения матриц BA определено, размерность (3, 3)\n",
      "произведения матриц AB определено, размерность (4, 4)\n",
      "произведения матриц BA определено, размерность (4, 4)\n"
     ]
    }
   ],
   "source": [
    "ab_ba((4,2),(4,2))\n",
    "ab_ba((2,5),(5,3))\n",
    "ab_ba((8,3),(3,8))\n",
    "ab_ba((4,4),(4,4))"
   ]
  },
  {
   "cell_type": "markdown",
   "metadata": {},
   "source": [
    "__Задание 2__  \n",
    "Найти сумму и произведение матриц $A=\\begin{pmatrix}\n",
    "1 & -2\\\\ \n",
    "3 & 0\n",
    "\\end{pmatrix}$ и $B=\\begin{pmatrix}\n",
    "4 & -1\\\\ \n",
    "0 & 5\n",
    "\\end{pmatrix}.$"
   ]
  },
  {
   "cell_type": "markdown",
   "metadata": {},
   "source": [
    "$A+B=\\begin{pmatrix}\n",
    "1 & -2\\\\ \n",
    "3 & 0\n",
    "\\end{pmatrix} + \\begin{pmatrix}\n",
    "4 & -1\\\\ \n",
    "0 & 5\n",
    "\\end{pmatrix}=\\begin{pmatrix}\n",
    "1+4 & -2-1\\\\ \n",
    "3+0 & 0+5\n",
    "\\end{pmatrix}=\\begin{pmatrix}\n",
    "5 & -3\\\\ \n",
    "3 & 5\n",
    "\\end{pmatrix}.$"
   ]
  },
  {
   "cell_type": "markdown",
   "metadata": {},
   "source": [
    "$A\\cdot B=\\begin{pmatrix}\n",
    "1 & -2\\\\ \n",
    "3 & 0\n",
    "\\end{pmatrix} \\cdot \\begin{pmatrix}\n",
    "4 & -1\\\\ \n",
    "0 & 5\n",
    "\\end{pmatrix}=\\begin{pmatrix}\n",
    "1\\cdot4 + -2\\cdot0 & 1\\cdot(-1)-2\\cdot5\\\\ \n",
    "3\\cdot4 + 0\\cdot0 & 3\\cdot(-1)+0\\cdot5\n",
    "\\end{pmatrix}=\\begin{pmatrix}\n",
    "4 & -11\\\\ \n",
    "12 & -3\n",
    "\\end{pmatrix}.$\n",
    "$B\\cdot A=\\begin{pmatrix}\n",
    "4 & -1\\\\ \n",
    "0 & 5\n",
    "\\end{pmatrix} \\cdot \\begin{pmatrix}\n",
    "1 & -2\\\\ \n",
    "3 & 0\n",
    "\\end{pmatrix}=\\begin{pmatrix}\n",
    "4\\cdot1 -1\\cdot3 & 4\\cdot(-2) -1\\cdot0\\\\ \n",
    "0\\cdot1 + 5\\cdot3 & 0\\cdot(-2)+5\\cdot0\n",
    "\\end{pmatrix}=\\begin{pmatrix}\n",
    "1 & -8\\\\ \n",
    "15 & 0\n",
    "\\end{pmatrix}.$"
   ]
  },
  {
   "cell_type": "code",
   "execution_count": 3,
   "metadata": {},
   "outputs": [
    {
     "name": "stdout",
     "output_type": "stream",
     "text": [
      "A+B\n",
      "[[ 5 -3]\n",
      " [ 3  5]]\n",
      "\n",
      "AB\n",
      "[[  4 -11]\n",
      " [ 12  -3]]\n",
      "\n",
      "BA\n",
      "[[ 1 -8]\n",
      " [15  0]]\n"
     ]
    }
   ],
   "source": [
    "A = np.array([[1,-2],[3,0]])\n",
    "B = np.array([[4,-1],[0,5]])\n",
    "print(f'A+B\\n{A+B}\\n\\n\\\n",
    "AB\\n{A.dot(B)}\\n\\n\\\n",
    "BA\\n{B.dot(A)}')"
   ]
  },
  {
   "cell_type": "markdown",
   "metadata": {},
   "source": [
    "__Задание 3__  \n",
    "Из закономерностей сложения и умножения матриц на число можно сделать вывод, что матрицы одного размера образуют линейное пространство. Вычислить линейную комбинацию $3A-2B+4C$ для матриц $A=\\begin{pmatrix}\n",
    "1 & 7\\\\ \n",
    "3 & -6\n",
    "\\end{pmatrix}$, $B=\\begin{pmatrix}\n",
    "0 & 5\\\\ \n",
    "2 & -1\n",
    "\\end{pmatrix}$, $C=\\begin{pmatrix}\n",
    "2 & -4\\\\ \n",
    "1 & 1\n",
    "\\end{pmatrix}.$"
   ]
  },
  {
   "cell_type": "markdown",
   "metadata": {},
   "source": [
    "$3A-2B+4C=\\begin{pmatrix}\n",
    "3 & 21\\\\ \n",
    "9 & -18\n",
    "\\end{pmatrix}+\\begin{pmatrix}\n",
    "0 & -10\\\\ \n",
    "-4 & 2\n",
    "\\end{pmatrix}+\\begin{pmatrix}\n",
    "8 & -16\\\\ \n",
    "4 & 4\n",
    "\\end{pmatrix}=\\begin{pmatrix}\n",
    "3+0+8 & 21-10-16\\\\ \n",
    "9-4+4 & -18+2+4\n",
    "\\end{pmatrix}=\\begin{pmatrix}\n",
    "11 & -5\\\\ \n",
    "9 & -12\n",
    "\\end{pmatrix}$"
   ]
  },
  {
   "cell_type": "code",
   "execution_count": 4,
   "metadata": {},
   "outputs": [
    {
     "data": {
      "text/plain": [
       "array([[ 11,  -5],\n",
       "       [  9, -12]])"
      ]
     },
     "execution_count": 4,
     "metadata": {},
     "output_type": "execute_result"
    }
   ],
   "source": [
    "A = np.array([[1,7],[3,-6]])\n",
    "B = np.array([[0,5],[2,-1]])\n",
    "C = np.array([[2,-4],[1,1]])\n",
    "\n",
    "3*A-2*B+4*C"
   ]
  },
  {
   "cell_type": "markdown",
   "metadata": {},
   "source": [
    "__Задание 4__  \n",
    "Дана матрица $A=\\begin{pmatrix}\n",
    "4 & 1\\\\ \n",
    "5 & -2\\\\ \n",
    "2 & 3\n",
    "\\end{pmatrix}$.\n",
    "Вычислить $AA^{T}$ и $A^{T}A$."
   ]
  },
  {
   "cell_type": "markdown",
   "metadata": {},
   "source": [
    "$A^T=\\begin{pmatrix}\n",
    "4 & 5 & 2\\\\ \n",
    "1 & -2 & 3\\end{pmatrix}$.\n",
    "\n",
    "$AA^{T}=\\begin{pmatrix}\n",
    "4\\cdot4 + 1\\cdot1 & 4\\cdot5 + 1\\cdot(-2) & 4\\cdot2 + 1\\cdot3\\\\ \n",
    "5\\cdot4 - 2\\cdot1 & 5\\cdot5 - 2\\cdot(-2) & 5\\cdot2 - 2\\cdot3\\\\\n",
    "2\\cdot4 + 3\\cdot1 & 2\\cdot5 + 3\\cdot(-2) & 2\\cdot2 + 3\\cdot3\\end{pmatrix}=\n",
    "\\begin{pmatrix}\n",
    "17 & 18 & 11\\\\ \n",
    "18 & 29 & 4\\\\\n",
    "11 & 4 & 13\\end{pmatrix}$\n",
    "\n",
    "$A^{T}A=\\begin{pmatrix}\n",
    "4\\cdot4 + 5\\cdot5 + 2\\cdot2 & 4\\cdot1 + 5\\cdot(-2) + 2\\cdot3\\\\ \n",
    "1\\cdot4 - 2\\cdot5 + 3\\cdot2 & 1\\cdot1 - 2\\cdot(-2) + 3\\cdot3\\end{pmatrix}=\n",
    "\\begin{pmatrix}\n",
    "45 & 0\\\\\n",
    "0 & 14\\end{pmatrix}$"
   ]
  },
  {
   "cell_type": "code",
   "execution_count": 5,
   "metadata": {},
   "outputs": [
    {
     "name": "stdout",
     "output_type": "stream",
     "text": [
      "A*AT\n",
      "[[17 18 11]\n",
      " [18 29  4]\n",
      " [11  4 13]]\n",
      "\n",
      "AT*A\n",
      "[[45  0]\n",
      " [ 0 14]]\n"
     ]
    }
   ],
   "source": [
    "A = np.array([[4,1],[5,-2],[2,3]])\n",
    "print(f'A*AT\\n{A.dot(A.T)}\\n')\n",
    "print(f'AT*A\\n{A.T.dot(A)}')"
   ]
  },
  {
   "cell_type": "markdown",
   "metadata": {},
   "source": [
    "__Задание 5*__  \n",
    "Написать на Python функцию для перемножения двух произвольных матриц, не используя NumPy."
   ]
  },
  {
   "cell_type": "code",
   "execution_count": 6,
   "metadata": {},
   "outputs": [],
   "source": [
    "def multiplication(a, b):\n",
    "    if len(a[0]) != len(b):\n",
    "        print(f'Не определено произведение! Количество столбцов первой матрицы не равно количеству строк второй.')\n",
    "    else:\n",
    "        return print([[sum([el*b[j][col] for j,el in enumerate(row)]) for col in range(len(b[0]))] for i,row in enumerate(a)])"
   ]
  },
  {
   "cell_type": "code",
   "execution_count": 7,
   "metadata": {},
   "outputs": [
    {
     "name": "stdout",
     "output_type": "stream",
     "text": [
      "[[17, 18, 11], [18, 29, 4], [11, 4, 13]]\n",
      "[[45, 0], [0, 14]]\n",
      "Не определено произведение! Количество столбцов первой матрицы не равно количеству строк второй.\n"
     ]
    }
   ],
   "source": [
    "a = [[4,1],[5,-2],[2,3]]\n",
    "b = [[4,5,2],[1,-2,3]]\n",
    "multiplication(a, b)\n",
    "multiplication(b, a)\n",
    "c = [[1,1],[2,2],[3,3]]\n",
    "d = [[4,4],[5,5],[6,6]]\n",
    "multiplication(c, d)"
   ]
  },
  {
   "cell_type": "markdown",
   "metadata": {},
   "source": [
    "## Матрицы и матричные операции. Часть 2"
   ]
  },
  {
   "cell_type": "markdown",
   "metadata": {},
   "source": [
    "__Задание 1__  \n",
    "\n",
    "Вычислить определитель:\n",
    "\n",
    "   a)\n",
    "\n",
    "$\\begin{vmatrix}\n",
    "sinx & -cosx\\\\ \n",
    "cosx & sinx\n",
    "\\end{vmatrix};$\n",
    "\n",
    "   б)\n",
    "    \n",
    "$\\begin{vmatrix}\n",
    "4 & 2 & 3\\\\ \n",
    "0 & 5 & 1\\\\ \n",
    "0 & 0 & 9\n",
    "\\end{vmatrix};$\n",
    "    \n",
    "   в)\n",
    "\n",
    "$\\begin{vmatrix}\n",
    "1 & 2 & 3\\\\ \n",
    "4 & 5 & 6\\\\ \n",
    "7 & 8 & 9\n",
    "\\end{vmatrix}.$"
   ]
  },
  {
   "cell_type": "markdown",
   "metadata": {},
   "source": [
    "a)\n",
    "\n",
    "$\\triangle= sinx \\cdot sinx - (-cosx)\\cdot cosx= sin^2x + cos^2x = 1;$   "
   ]
  },
  {
   "cell_type": "code",
   "execution_count": 8,
   "metadata": {},
   "outputs": [
    {
     "data": {
      "text/latex": [
       "$\\displaystyle \\left[\\begin{matrix}\\sin{\\left(x \\right)} & \\cos{\\left(x \\right)}\\\\- \\cos{\\left(x \\right)} & \\sin{\\left(x \\right)}\\end{matrix}\\right]$"
      ],
      "text/plain": [
       "Matrix([\n",
       "[ sin(x), cos(x)],\n",
       "[-cos(x), sin(x)]])"
      ]
     },
     "execution_count": 8,
     "metadata": {},
     "output_type": "execute_result"
    }
   ],
   "source": [
    "import sympy as sym\n",
    "\n",
    "x = sym.symbols('x')\n",
    "\n",
    "A = sym.Matrix([[sym.sin(x),sym.cos(x)],[-sym.cos(x),sym.sin(x)]])\n",
    "A"
   ]
  },
  {
   "cell_type": "code",
   "execution_count": 9,
   "metadata": {},
   "outputs": [
    {
     "data": {
      "text/latex": [
       "$\\displaystyle 1$"
      ],
      "text/plain": [
       "1"
      ]
     },
     "execution_count": 9,
     "metadata": {},
     "output_type": "execute_result"
    }
   ],
   "source": [
    "sym.simplify(sym.det(A))"
   ]
  },
  {
   "cell_type": "markdown",
   "metadata": {},
   "source": [
    "б)\n",
    "    \n",
    "$\\triangle=\\begin{vmatrix}\n",
    "4 & 2 & 3\\\\ \n",
    "0 & 5 & 1\\\\ \n",
    "0 & 0 & 9\n",
    "\\end{vmatrix}=9\\cdot\\begin{vmatrix}\n",
    "4 & 2 \\\\ \n",
    "0 & 5 \\end{vmatrix}=9\\cdot(4\\cdot5-0\\cdot2)=180;$"
   ]
  },
  {
   "cell_type": "code",
   "execution_count": 10,
   "metadata": {},
   "outputs": [
    {
     "data": {
      "text/plain": [
       "180.0"
      ]
     },
     "execution_count": 10,
     "metadata": {},
     "output_type": "execute_result"
    }
   ],
   "source": [
    "np.linalg.det(np.array([[4,2,3],[0,5,1],[0,0,9]]))"
   ]
  },
  {
   "cell_type": "markdown",
   "metadata": {},
   "source": [
    "в)\n",
    "\n",
    "$\\triangle\\begin{vmatrix}\n",
    "1 & 2 & 3\\\\ \n",
    "4 & 5 & 6\\\\ \n",
    "7 & 8 & 9\n",
    "\\end{vmatrix}=\\begin{vmatrix}\n",
    "1 & 2 & 3\\\\ \n",
    "3 & 3 & 3\\\\ \n",
    "3 & 3 & 3\n",
    "\\end{vmatrix}=0.$"
   ]
  },
  {
   "cell_type": "code",
   "execution_count": 11,
   "metadata": {},
   "outputs": [
    {
     "name": "stdout",
     "output_type": "stream",
     "text": [
      "Определитель:\n",
      "0\n"
     ]
    }
   ],
   "source": [
    "print(f'Определитель:\\n{np.linalg.det(np.array([[1,2,3],[4,5,6],[7,8,9]])):.0f}')"
   ]
  },
  {
   "cell_type": "markdown",
   "metadata": {},
   "source": [
    "__Задание 2__  \n",
    "\n",
    "Определитель матрицы $A$ равен $4$. Найти:\n",
    "\n",
    "   а) $det(A^{2})=det(A)\\cdot det(A)=4^2=16$;\n",
    "    \n",
    "   б) $det(A^{T})=det(A)=4$;\n",
    "    \n",
    "   в) $det(2A)=2det(A)=8$."
   ]
  },
  {
   "cell_type": "markdown",
   "metadata": {},
   "source": [
    "__Задание 3__  \n",
    "\n",
    "Доказать, что матрица\n",
    "\n",
    "$\\begin{pmatrix}\n",
    "-2 & 7 & -3\\\\ \n",
    "4 & -14 & 6\\\\ \n",
    "-3 & 7 & 13\n",
    "\\end{pmatrix}$\n",
    "   \n",
    "вырожденная."
   ]
  },
  {
   "cell_type": "markdown",
   "metadata": {},
   "source": [
    "Умножим первую строку на 2 и прибавим к третьей:\n",
    "$\\triangle\\begin{pmatrix}\n",
    "-2 & 7 & -3\\\\ \n",
    "4 & -14 & 6\\\\ \n",
    "-3 & 7 & 13\n",
    "\\end{pmatrix}=\\begin{pmatrix}\n",
    "-2 & 7 & -3\\\\ \n",
    "0 & 0 & 0\\\\ \n",
    "-3 & 7 & 13\n",
    "\\end{pmatrix}=0$"
   ]
  },
  {
   "cell_type": "code",
   "execution_count": 12,
   "metadata": {},
   "outputs": [
    {
     "data": {
      "text/plain": [
       "0.0"
      ]
     },
     "execution_count": 12,
     "metadata": {},
     "output_type": "execute_result"
    }
   ],
   "source": [
    "np.linalg.det(np.array([[-2,7,-3],[4,-14,6],[-3,7,13]]))"
   ]
  },
  {
   "cell_type": "markdown",
   "metadata": {},
   "source": [
    "__Задание 4__  \n",
    "\n",
    "Найти ранг матрицы:\n",
    "\n",
    "   б) $\\begin{pmatrix}\n",
    "0 & 0 & 2 & 1\\\\ \n",
    "0 & 0 & 2 & 2\\\\ \n",
    "0 & 0 & 4 & 3\\\\ \n",
    "2 & 3 & 5 & 6\n",
    "\\end{pmatrix}.$"
   ]
  },
  {
   "cell_type": "markdown",
   "metadata": {},
   "source": [
    "а) В исходной матрице третья строка является линейной комбинацией первых двух, поэтому ее можно выкинуть:\n",
    "$rank = \\begin{pmatrix}\n",
    "1 & 2 & 3\\\\ \n",
    "1 & 1 & 1\\\\ \n",
    "2 & 3 & 4\n",
    "\\end{pmatrix}=\\begin{pmatrix}\n",
    "1 & 2 & 3\\\\ \n",
    "1 & 1 & 1\\end{pmatrix}=2$\n"
   ]
  },
  {
   "cell_type": "code",
   "execution_count": 13,
   "metadata": {},
   "outputs": [
    {
     "data": {
      "text/plain": [
       "2"
      ]
     },
     "execution_count": 13,
     "metadata": {},
     "output_type": "execute_result"
    }
   ],
   "source": [
    "np.linalg.matrix_rank(np.array([[1,2,3],[1,1,1,],[2,3,4]]))"
   ]
  },
  {
   "cell_type": "markdown",
   "metadata": {},
   "source": [
    "б)  В исходной матрице третья строка является линейной комбинацией первых двух, поэтому ее можно выкинуть:\n",
    "$rank=\\begin{pmatrix}\n",
    "0 & 0 & 2 & 1\\\\ \n",
    "0 & 0 & 2 & 2\\\\ \n",
    "0 & 0 & 4 & 3\\\\ \n",
    "2 & 3 & 5 & 6\n",
    "\\end{pmatrix}=\\begin{pmatrix}\n",
    "0 & 0 & 2 & 1\\\\ \n",
    "0 & 0 & 2 & 2\\\\  \n",
    "2 & 3 & 5 & 6\n",
    "\\end{pmatrix}=3.$"
   ]
  },
  {
   "cell_type": "code",
   "execution_count": 14,
   "metadata": {},
   "outputs": [
    {
     "data": {
      "text/plain": [
       "3"
      ]
     },
     "execution_count": 14,
     "metadata": {},
     "output_type": "execute_result"
    }
   ],
   "source": [
    "np.linalg.matrix_rank(np.array([[0,0,2,1],[0,0,2,2],[0,0,4,3],[2,3,5,6]]))"
   ]
  }
 ],
 "metadata": {
  "kernelspec": {
   "display_name": "Python 3",
   "language": "python",
   "name": "python3"
  },
  "language_info": {
   "codemirror_mode": {
    "name": "ipython",
    "version": 3
   },
   "file_extension": ".py",
   "mimetype": "text/x-python",
   "name": "python",
   "nbconvert_exporter": "python",
   "pygments_lexer": "ipython3",
   "version": "3.8.3"
  }
 },
 "nbformat": 4,
 "nbformat_minor": 4
}
