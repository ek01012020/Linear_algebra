{
 "cells": [
  {
   "cell_type": "markdown",
   "metadata": {},
   "source": [
    "## Линейные преобразования"
   ]
  },
  {
   "cell_type": "markdown",
   "metadata": {},
   "source": [
    "__Задание 1__  \n",
    "\n",
    "Найти собственные векторы и собственные значения для линейного оператора, заданного матрицей\n",
    "\n",
    "$A=\\begin{pmatrix}\n",
    "-1 & -6\\\\ \n",
    "2 & 6\n",
    "\\end{pmatrix}.$"
   ]
  },
  {
   "cell_type": "markdown",
   "metadata": {},
   "source": [
    "Найдем собственные значения матрицы $A$:  \n",
    "$\\begin{pmatrix}\n",
    "-1 -\\lambda & -6\\\\ \n",
    "2 & 6 - \\lambda\n",
    "\\end{pmatrix}=0, \\quad\n",
    "(-1-\\lambda)(6-\\lambda)-2\\cdot(-6)=0, \\quad\n",
    "\\lambda^2-5\\lambda+6=0, \\quad\n",
    "\\lambda=(2,3)$<br><br>\n",
    "Для каждого собственного значения найдем собственный вектор:<br>\n",
    "$Ax=\\lambda x, \\quad\n",
    "(A-\\lambda E)x=0$<br>\n",
    "$\\lambda = 2:$<br>\n",
    "$\\begin{pmatrix}\n",
    "-1 -2 & -6\\\\ \n",
    "2 & 6 - 2\n",
    "\\end{pmatrix}\\cdot \\begin{pmatrix}\n",
    "x_1\\\\ \n",
    "x_2\n",
    "\\end{pmatrix}=0, \\quad\n",
    "\\begin{cases}\n",
    "-3x_1 -6x_2 = 0\\\\\n",
    "2x_1 +4x_2 = 0\\end{cases}, \\quad\n",
    "\\begin{cases}\n",
    "x_1 =-2x_2\\\\\n",
    "x_1 =-2x_2\\end{cases}, \\quad\n",
    "x=(2, -1)$<br><br>\n",
    "Проверим, что найденный собственный вектор удовлетворяет каждому уравнению:<br><br>\n",
    "$\\begin{cases}\n",
    "-3\\cdot 2 -6\\cdot(-1) = 0\\\\\n",
    "2\\cdot2 +4\\cdot(-1) = 0\\end{cases}$\n",
    "<br><br>\n",
    "$\\lambda = 3:$<br>\n",
    "$\\begin{pmatrix}\n",
    "-1 -3 & -6\\\\ \n",
    "2 & 6 - 3\n",
    "\\end{pmatrix}\\cdot \\begin{pmatrix}\n",
    "x_1\\\\ \n",
    "x_2\n",
    "\\end{pmatrix}=0, \\quad\n",
    "\\begin{cases}\n",
    "-4x_1 -6x_2 = 0\\\\\n",
    "2x_1 +3x_2 = 0\\end{cases}, \\quad\n",
    "\\begin{cases}\n",
    "x_1 =-3/2x_2\\\\\n",
    "x_1 =-3/2x_2\\end{cases}, \\quad\n",
    "x=(3, -2)$<br><br>\n",
    "Проверим, что найденный собственный вектор удовлетворяет каждому уравнению:<br><br>\n",
    "$\\begin{cases}\n",
    "-4\\cdot3 -6\\cdot(-2) = 0\\\\\n",
    "2\\cdot3 +3\\cdot(-2) = 0\\end{cases}$<br><br>\n",
    "__Ответ__  \n",
    "Собственные значения матрицы: $\\lambda=(2,3)$  \n",
    "Собственные вектора матрицы: $x=(2,-1), x=(3,-2)$"
   ]
  },
  {
   "cell_type": "markdown",
   "metadata": {},
   "source": [
    "__Задание 2__  \n",
    "\n",
    "Дан оператор поворота на 180 градусов, задаваемый матрицей \n",
    "\n",
    "$A=\\begin{pmatrix}\n",
    "-1 & 0\\\\ \n",
    "0 & -1\n",
    "\\end{pmatrix}.$\n",
    "\n",
    "Показать, что __любой__ вектор является для него собственным."
   ]
  },
  {
   "cell_type": "markdown",
   "metadata": {},
   "source": [
    "$\\begin{pmatrix}\n",
    "-1 -\\lambda & 0\\\\ \n",
    "0 & -1 - \\lambda\n",
    "\\end{pmatrix}=0, \\quad\n",
    "(1+\\lambda)^2=0, \\quad\n",
    "\\lambda=-1$<br><br>\n",
    "$\\begin{pmatrix}\n",
    "-1 + 1 & 0\\\\ \n",
    "0 & -1 + 1\n",
    "\\end{pmatrix}\\cdot \\begin{pmatrix}\n",
    "x_1\\\\ \n",
    "x_2\n",
    "\\end{pmatrix}=0, \\quad\n",
    "\\begin{pmatrix}\n",
    "0 & 0\\\\ \n",
    "0 & 0\n",
    "\\end{pmatrix}\\cdot \\begin{pmatrix}\n",
    "x_1\\\\ \n",
    "x_2\n",
    "\\end{pmatrix}=0$<br><br>"
   ]
  },
  {
   "cell_type": "markdown",
   "metadata": {},
   "source": [
    "__Задание 3__  \n",
    "\n",
    "Пусть линейный оператор задан матрицей\n",
    "\n",
    "$A=\\begin{pmatrix}\n",
    "1 & 1\\\\ \n",
    "-1 & 3\n",
    "\\end{pmatrix}.$\n",
    "\n",
    "Установить, является ли вектор $x=(1,1)$ собственным вектором этого линейного оператора."
   ]
  },
  {
   "cell_type": "markdown",
   "metadata": {},
   "source": [
    "$\\begin{pmatrix}\n",
    "1 & 1\\\\ \n",
    "-1 & 3\n",
    "\\end{pmatrix}\\cdot\n",
    "\\begin{pmatrix}\n",
    "1\\\\ \n",
    "1\\end{pmatrix}=\\lambda\\cdot\\begin{pmatrix}\n",
    "1\\\\ \n",
    "1\\end{pmatrix}.$<br><br>\n",
    "$\\begin{cases}\n",
    "1 + 1 = \\lambda\\\\ \n",
    "-1 + 3 = \\lambda\n",
    "\\end{cases}, \\quad\n",
    "\\begin{cases}\n",
    "\\lambda = 2\\\\ \n",
    "\\lambda = 2\n",
    "\\end{cases}$<br><br>\n",
    "__Ответ__  \n",
    "Вектор $x=(1,1)$ является собственным вектором этого линейного оператора"
   ]
  },
  {
   "cell_type": "markdown",
   "metadata": {},
   "source": [
    "__Задание 4__  \n",
    "\n",
    "Пусть линейный оператор задан матрицей\n",
    "\n",
    "$A=\\begin{pmatrix} 0 & 3 & 0\\\\ 3 & 0 & 0\\\\ 0 & 0 & 3 \\end{pmatrix}.$\n",
    "\n",
    "Установить, является ли вектор $x=(3, -3, -4)$ собственным вектором этого линейного оператора."
   ]
  },
  {
   "cell_type": "markdown",
   "metadata": {},
   "source": [
    "$\\begin{pmatrix}\n",
    "0 & 3 & 0\\\\\n",
    "3 & 0 & 0\\\\\n",
    "0 & 0 & 3 \\end{pmatrix}\\cdot\n",
    "\\begin{pmatrix}\n",
    "3\\\\\n",
    "-3\\\\\n",
    "-4\\end{pmatrix}=\\lambda \\cdot \\begin{pmatrix}\n",
    "3\\\\\n",
    "-3\\\\\n",
    "-4\\end{pmatrix}.$<br><br>\n",
    "$\\begin{cases}\n",
    "3\\cdot(-3)=3\\lambda\\\\\n",
    "3\\cdot3=-3\\lambda\\\\\n",
    "3\\cdot(-4)=-4\\lambda \\end{cases}, \\quad\n",
    "\\begin{cases}\n",
    "\\lambda=-3\\\\\n",
    "\\lambda=-3\\\\\n",
    "\\lambda=3 \\end{cases}$<br><br>\n",
    "__Ответ__  \n",
    "Вектор $x=(3, -3, -4)$ не является собственным вектором этого линейного оператора."
   ]
  }
 ],
 "metadata": {
  "kernelspec": {
   "display_name": "Python 3",
   "language": "python",
   "name": "python3"
  },
  "language_info": {
   "codemirror_mode": {
    "name": "ipython",
    "version": 3
   },
   "file_extension": ".py",
   "mimetype": "text/x-python",
   "name": "python",
   "nbconvert_exporter": "python",
   "pygments_lexer": "ipython3",
   "version": "3.8.3"
  }
 },
 "nbformat": 4,
 "nbformat_minor": 4
}
