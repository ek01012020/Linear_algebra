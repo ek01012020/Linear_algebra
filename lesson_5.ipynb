{
 "cells": [
  {
   "cell_type": "markdown",
   "metadata": {},
   "source": [
    "__Задание 1__  \n",
    "Найти с помощью NumPy SVD для матрицы\n",
    "\n",
    "$\\begin{pmatrix}\n",
    "1 & 2 & 0\\\\ \n",
    "0 & 0 & 5\\\\ \n",
    "3 & -4 & 2\\\\ \n",
    "1 & 6 & 5\\\\ \n",
    "0 & 1 & 0\n",
    "\\end{pmatrix}.$"
   ]
  },
  {
   "cell_type": "code",
   "execution_count": 1,
   "metadata": {},
   "outputs": [],
   "source": [
    "import numpy as np\n",
    "import numpy.linalg as LA"
   ]
  },
  {
   "cell_type": "code",
   "execution_count": 2,
   "metadata": {},
   "outputs": [
    {
     "name": "stdout",
     "output_type": "stream",
     "text": [
      "Сингулярное разложение матрицы А:\n",
      "[[ 1  2  0]\n",
      " [ 0  0  5]\n",
      " [ 3 -4  2]\n",
      " [ 1  6  5]\n",
      " [ 0  1  0]]\n",
      "U:\n",
      "[[ 0.17056501  0.15680918 -0.53077508 -0.79905375 -0.16158397]\n",
      " [ 0.39287016 -0.52933945  0.6134793  -0.43375771  0.03082495]\n",
      " [-0.14366152 -0.82449256 -0.52379105  0.14049848  0.07400343]\n",
      " [ 0.88843702  0.06074346 -0.24655277  0.37755832 -0.06042632]\n",
      " [ 0.08125046  0.10831843 -0.08231425 -0.10524851  0.98173958]]\n",
      "D:\n",
      "[[8.82486885 0.         0.        ]\n",
      " [0.         6.14060608 0.        ]\n",
      " [0.         0.         2.53271528]\n",
      " [0.         0.         0.        ]\n",
      " [0.         0.         0.        ]]\n",
      "V транспонированная:\n",
      "[[ 0.07116451  0.71702467  0.69340553]\n",
      " [-0.36737824  0.66514082 -0.65009301]\n",
      " [-0.92734505 -0.20847855  0.31075368]]\n"
     ]
    }
   ],
   "source": [
    "A = np.array([[1,2,0],[0,0,5],[3,-4,2],[1,6,5],[0,1,0]])\n",
    "\n",
    "U, s, V_t = LA.svd(A)\n",
    "\n",
    "D = np.zeros_like(A, float)\n",
    "D[np.diag_indices(min(A.shape))] = s\n",
    "\n",
    "print(f'Сингулярное разложение матрицы А:\\n\\\n",
    "{A}\\n\\\n",
    "U:\\n{U}\\n\\\n",
    "D:\\n{D}\\n\\\n",
    "V транспонированная:\\n\\\n",
    "{V_t}')"
   ]
  },
  {
   "cell_type": "markdown",
   "metadata": {},
   "source": [
    "__Задание 2__  \n",
    "Для матрицы из предыдущего задания найти:\n",
    "\n",
    "    а) евклидову норму;\n",
    "    \n",
    "    б) норму Фробениуса."
   ]
  },
  {
   "cell_type": "code",
   "execution_count": 3,
   "metadata": {},
   "outputs": [
    {
     "name": "stdout",
     "output_type": "stream",
     "text": [
      "Евклидова норма матрицы А:\n",
      "8.824868854820448\n",
      "Норма Фробениуса матрицы А:\n",
      "11.045361017187265\n"
     ]
    }
   ],
   "source": [
    "print(f'Евклидова норма матрицы А:\\n{D[0][0]}')\n",
    "print(f'Норма Фробениуса матрицы А:\\n{np.sqrt(sum([el**2 for el in s]))}')"
   ]
  }
 ],
 "metadata": {
  "kernelspec": {
   "display_name": "Python 3",
   "language": "python",
   "name": "python3"
  },
  "language_info": {
   "codemirror_mode": {
    "name": "ipython",
    "version": 3
   },
   "file_extension": ".py",
   "mimetype": "text/x-python",
   "name": "python",
   "nbconvert_exporter": "python",
   "pygments_lexer": "ipython3",
   "version": "3.8.3"
  }
 },
 "nbformat": 4,
 "nbformat_minor": 4
}
