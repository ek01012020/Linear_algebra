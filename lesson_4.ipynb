{
 "cells": [
  {
   "cell_type": "markdown",
   "metadata": {},
   "source": [
    "## Системы линейных уравнений. Часть 1"
   ]
  },
  {
   "cell_type": "markdown",
   "metadata": {},
   "source": [
    "__Задание 1__  \n",
    "Решить систему уравнений методом Гаусса:\n",
    "\n",
    "$\\begin{cases}\n",
    "x_{1}+x_{2}-x_{3}-2x_{4}=0, \\\\\n",
    "2x_{1}+x_{2}-x_{3}+x_{4}=-2, \\\\\n",
    "x_{1}+x_{2}-3x_{3}+x_{4}=4.\n",
    "\\end{cases}$"
   ]
  },
  {
   "cell_type": "markdown",
   "metadata": {},
   "source": [
    "__Решение__<br>\n",
    "<br>\n",
    "$\\begin{pmatrix}\n",
    "\\left.\\begin{matrix}\n",
    "1 & 1 & -1 & -2\\\\\n",
    "2 & 1 & -1 & 1\\\\\n",
    "1 & 1 & -3 & 1\n",
    "\\end{matrix}\\right|\n",
    "\\begin{matrix}\n",
    "0\\\\ \n",
    "-2\\\\\n",
    "4\n",
    "\\end{matrix}\n",
    "\\end{pmatrix}\n",
    "\\rightarrow\n",
    "\\begin{pmatrix}\n",
    "\\left.\\begin{matrix}\n",
    "1 & 1 & -1 & -2\\\\\n",
    "0 & -1 & 1 & 5\\\\\n",
    "0 & 0 & -2 & 3\n",
    "\\end{matrix}\\right|\n",
    "\\begin{matrix}\n",
    "0\\\\ \n",
    "-2\\\\\n",
    "4\n",
    "\\end{matrix}\n",
    "\\end{pmatrix}\n",
    "$<br>\n",
    "Система имеет бесконечное множество решений. Найдем общее решение системы уравнений:<br>\n",
    "$\\begin{cases}\n",
    "x_1+x_2-x_3-2x_4=0\\\\\n",
    "-x_2+x_3+5x_4=-2\\\\\n",
    "-2x_3+3x_4=4\n",
    "\\end{cases}\n",
    "\\rightarrow\n",
    "\\begin{cases}\n",
    "x_1+x_2-x_3-2x_4=0\\\\\n",
    "x_2=x_3+5x_4+2\\\\\n",
    "x_3=\\frac{3x_4}{2}-2\\\\\n",
    "x_4=c\n",
    "\\end{cases}\n",
    "\\rightarrow\n",
    "\\begin{cases}\n",
    "x_1=-x_2+\\frac{3c}{2}-2+2c\\\\\n",
    "x_2=\\frac{3c}{2}-2+5c+2\\\\\n",
    "x_3=\\frac{3c}{2}-2\\\\\n",
    "x_4=c\n",
    "\\end{cases}\n",
    "\\rightarrow\n",
    "\\begin{cases}\n",
    "x_1=-3c-2\\\\\n",
    "x_2=\\frac{13c}{2}\\\\\n",
    "x_3=\\frac{3c}{2}-2\\\\\n",
    "x_4=c\n",
    "\\end{cases}$"
   ]
  },
  {
   "cell_type": "markdown",
   "metadata": {},
   "source": [
    "Найдем частное решение системы уравнений при $x_4=c=2$:<br>\n",
    "$\\begin{cases}\n",
    "x_1=-8\\\\\n",
    "x_2=13\\\\\n",
    "x_3=1\\\\\n",
    "x_4=2\n",
    "\\end{cases}$"
   ]
  },
  {
   "cell_type": "markdown",
   "metadata": {},
   "source": [
    "Проверим полученное значение, подставив в исходную систему:<br>\n",
    "<br>\n",
    "$\\begin{cases}\n",
    "-8+13-1-4=0, \\\\\n",
    "-16+13-1+2=-2, \\\\\n",
    "-8+13-3+2=4.\n",
    "\\end{cases}$<br><br>\n",
    "__Ответ__ $x=(-3c-2,\\frac{13c}{2},\\frac{3c}{2}-2,c)$"
   ]
  },
  {
   "cell_type": "markdown",
   "metadata": {},
   "source": [
    "__Задание 2__  \n",
    "Проверить на совместность и выяснить, сколько решений будет иметь система линейных уравнений:\n",
    "\n",
    "   а) $\\begin{cases}\n",
    "3x_{1}-x_{2}+x_{3}=4, \\\\\n",
    "2x_{1}-5x_{2}-3x_{3}=-17, \\\\\n",
    "x_{1}+x_{2}-x_{3}=0;\n",
    "\\end{cases}$\n",
    "    \n",
    "   б) $\\begin{cases}\n",
    "2x_{1}-4x_{2}+6x_{3}=1, \\\\\n",
    "x_{1}-2x_{2}+3x_{3}=-2, \\\\\n",
    "3x_{1}-6x_{2}+9x_{3}=5;\n",
    "\\end{cases}$\n",
    "    \n",
    "   в) $\\begin{cases}\n",
    "x_{1}+2x_{2}+5x_{3}=4, \\\\\n",
    "3x_{1}+x_{2}-8x_{3}=-2. \n",
    "\\end{cases}$"
   ]
  },
  {
   "cell_type": "code",
   "execution_count": 1,
   "metadata": {},
   "outputs": [],
   "source": [
    "import numpy as np\n",
    "import numpy.linalg as LA\n",
    "\n",
    "def is_consistent(A, b):\n",
    "    n = len(A[0])\n",
    "    A_ = np.append(A, b.T, axis=1)\n",
    "    print(f'Расширенная матрица системы уравнений:\\n{A_}')\n",
    "    print(f'Ранг матрицы - {LA.matrix_rank(A)}, ранг расширенной матрицы - {LA.matrix_rank(A_)}')\n",
    "    if LA.matrix_rank(A) == LA.matrix_rank(A_):\n",
    "        if LA.matrix_rank(A) == n:\n",
    "            print(f'Система линейных уравнений совместная(есть решения), определенная (единственное решение).')\n",
    "        else:\n",
    "            print(f'Система линейных уравнений совместная(есть решения), неопределенная (множество решений).')\n",
    "    else:\n",
    "        print(f'Система линейных уравнений несовместная(не имеет решений).')    "
   ]
  },
  {
   "cell_type": "markdown",
   "metadata": {},
   "source": [
    "__Решение__  \n",
    "\n",
    "а) $\\begin{pmatrix}\n",
    "\\left.\\begin{matrix}\n",
    "3 & -1 & 1 \\\\\n",
    "2 & -5 & -3 \\\\\n",
    "1 & 1 & -1\n",
    "\\end{matrix}\n",
    "\\right |\n",
    "\\begin{matrix}\n",
    "4\\\\\n",
    "-17\\\\\n",
    "0\n",
    "\\end{matrix}\n",
    "\\end{pmatrix}\n",
    "\\rightarrow\n",
    "\\begin{pmatrix}\n",
    "\\left.\\begin{matrix}\n",
    "1 & 1 & -1 \\\\\n",
    "2 & -5 & -3 \\\\\n",
    "3 & -1 & 1\n",
    "\\end{matrix}\n",
    "\\right |\n",
    "\\begin{matrix}\n",
    "0\\\\\n",
    "-17\\\\\n",
    "4\n",
    "\\end{matrix}\n",
    "\\end{pmatrix}\n",
    "\\rightarrow\n",
    "\\begin{pmatrix}\n",
    "\\left.\\begin{matrix}\n",
    "1 & 1 & -1 \\\\\n",
    "0 & -7 & -1 \\\\\n",
    "0 & -4 & 4\n",
    "\\end{matrix}\n",
    "\\right |\n",
    "\\begin{matrix}\n",
    "0\\\\\n",
    "-17\\\\\n",
    "4\n",
    "\\end{matrix}\n",
    "\\end{pmatrix}\n",
    "\\rightarrow\n",
    "\\begin{pmatrix}\n",
    "\\left.\\begin{matrix}\n",
    "1 & 1 & -1 \\\\\n",
    "0 & -7 & -1 \\\\\n",
    "0 & -8 & 0\n",
    "\\end{matrix}\n",
    "\\right |\n",
    "\\begin{matrix}\n",
    "0\\\\\n",
    "-17\\\\\n",
    "-16\n",
    "\\end{matrix}\n",
    "\\end{pmatrix}\n",
    "$<br><br>\n",
    "__Ответ__ Система уравнений определенная и совместная, т.к. ранг матрицы равен рангу расширенной матрицы и количеству переменных."
   ]
  },
  {
   "cell_type": "code",
   "execution_count": 2,
   "metadata": {},
   "outputs": [
    {
     "name": "stdout",
     "output_type": "stream",
     "text": [
      "Расширенная матрица системы уравнений:\n",
      "[[  3  -1   1   4]\n",
      " [  2  -5  -3 -17]\n",
      " [  1   1  -1   0]]\n",
      "Ранг матрицы - 3, ранг расширенной матрицы - 3\n",
      "Система линейных уравнений совместная(есть решения), определенная (единственное решение).\n"
     ]
    }
   ],
   "source": [
    "A = np.array([[3,-1,1],[2,-5,-3],[1,1,-1]])\n",
    "b = np.array([[4,-17,0]])\n",
    "is_consistent(A, b)"
   ]
  },
  {
   "cell_type": "markdown",
   "metadata": {},
   "source": [
    "б) $\\begin{cases}\n",
    "2x_{1}-4x_{2}+6x_{3}=1, \\\\\n",
    "x_{1}-2x_{2}+3x_{3}=-2, \\\\\n",
    "3x_{1}-6x_{2}+9x_{3}=5;\n",
    "\\end{cases}$<br>\n",
    "__Решение__  \n",
    "\n",
    "$\\begin{pmatrix}\n",
    "\\left.\\begin{matrix}\n",
    "2 & -4 & 6 \\\\\n",
    "1 & -2 & 3 \\\\\n",
    "3 & -6 & 9\n",
    "\\end{matrix}\n",
    "\\right |\n",
    "\\begin{matrix}\n",
    "1\\\\\n",
    "-2\\\\\n",
    "5\n",
    "\\end{matrix}\n",
    "\\end{pmatrix}\n",
    "\\rightarrow\n",
    "\\begin{pmatrix}\n",
    "\\left.\\begin{matrix}\n",
    "1 & -2 & 3 \\\\\n",
    "2 & -4 & 6 \\\\\n",
    "3 & -6 & 9\n",
    "\\end{matrix}\n",
    "\\right |\n",
    "\\begin{matrix}\n",
    "-2\\\\\n",
    "1\\\\\n",
    "5\n",
    "\\end{matrix}\n",
    "\\end{pmatrix}\n",
    "\\rightarrow\n",
    "\\begin{pmatrix}\n",
    "\\left.\\begin{matrix}\n",
    "1 & -2 & 3 \\\\\n",
    "0 & 0 & 0 \\\\\n",
    "0 & 0 & 0\n",
    "\\end{matrix}\n",
    "\\right |\n",
    "\\begin{matrix}\n",
    "-2\\\\\n",
    "5\\\\\n",
    "11\n",
    "\\end{matrix}\n",
    "\\end{pmatrix}\n",
    "\\rightarrow\n",
    "\\begin{pmatrix}\n",
    "\\left.\\begin{matrix}\n",
    "1 & -2 & 3 \\\\\n",
    "0 & 0 & 0 \\\\\n",
    "0 & 0 & 0\n",
    "\\end{matrix}\n",
    "\\right |\n",
    "\\begin{matrix}\n",
    "-2\\\\\n",
    "5\\\\\n",
    "0\n",
    "\\end{matrix}\n",
    "\\end{pmatrix}\n",
    "$<br><br>\n",
    "__Ответ__ Система уравнений несовместная, т.к. ранг матрицы меньше ранга расширенной матрицы."
   ]
  },
  {
   "cell_type": "code",
   "execution_count": 3,
   "metadata": {},
   "outputs": [
    {
     "name": "stdout",
     "output_type": "stream",
     "text": [
      "Расширенная матрица системы уравнений:\n",
      "[[ 2 -4  6  1]\n",
      " [ 1 -2  3 -2]\n",
      " [ 3 -6  9  5]]\n",
      "Ранг матрицы - 1, ранг расширенной матрицы - 2\n",
      "Система линейных уравнений несовместная(не имеет решений).\n"
     ]
    }
   ],
   "source": [
    "A = np.array([[2,-4,6],[1,-2,3],[3,-6,9]])\n",
    "b = np.array([[1,-2,5]])\n",
    "is_consistent(A, b)"
   ]
  },
  {
   "cell_type": "markdown",
   "metadata": {},
   "source": [
    "в) $\\begin{cases}\n",
    "x_{1}+2x_{2}+5x_{3}=4, \\\\\n",
    "3x_{1}+x_{2}-8x_{3}=-2. \n",
    "\\end{cases}$<br>\n",
    "__Решение__  \n",
    "\n",
    "$\\begin{pmatrix}\n",
    "\\left.\\begin{matrix}\n",
    "1 & 2 & 5 \\\\\n",
    "3 & 1 & 8\n",
    "\\end{matrix}\n",
    "\\right |\n",
    "\\begin{matrix}\n",
    "4\\\\\n",
    "-2\n",
    "\\end{matrix}\n",
    "\\end{pmatrix}\n",
    "\\rightarrow\n",
    "\\begin{pmatrix}\n",
    "\\left.\\begin{matrix}\n",
    "1 & 2 & 5 \\\\\n",
    "0 & -5 & -23\n",
    "\\end{matrix}\n",
    "\\right |\n",
    "\\begin{matrix}\n",
    "4\\\\\n",
    "-14\n",
    "\\end{matrix}\n",
    "\\end{pmatrix}\n",
    "$<br><br>\n",
    "__Ответ__ Система уравнений совместная и неопределенная(недоопределенная), т.к. ранг матрицы равен рангу расширенной матрицы и меньше количества переменных. Т.е. система уравнений имеет множество решений."
   ]
  },
  {
   "cell_type": "code",
   "execution_count": 4,
   "metadata": {},
   "outputs": [
    {
     "name": "stdout",
     "output_type": "stream",
     "text": [
      "Расширенная матрица системы уравнений:\n",
      "[[ 1  2  5  4]\n",
      " [ 3  1 -8 -2]]\n",
      "Ранг матрицы - 2, ранг расширенной матрицы - 2\n",
      "Система линейных уравнений совместная(есть решения), неопределенная (множество решений).\n"
     ]
    }
   ],
   "source": [
    "A = np.array([[1,2,5],[3,1,-8]])\n",
    "b = np.array([[4,-2]])\n",
    "is_consistent(A, b)"
   ]
  },
  {
   "cell_type": "markdown",
   "metadata": {},
   "source": [
    "__Задание 3__  \n",
    "Проверить на совместность и выяснить, сколько решений будет иметь система линейных уравнений, заданная расширенной матрицей\n",
    "\n",
    "$\\tilde{A}=\\begin{pmatrix}\n",
    "\\left.\\begin{matrix}\n",
    "1 & 3 & -2 & 4\\\\ \n",
    "0 & 5 & 0 & 1\\\\ \n",
    "0 & 0 & 3 & 0\\\\ \n",
    "0 & 0 & 0 & 2\n",
    "\\end{matrix}\\right|\n",
    "\\begin{matrix}\n",
    "3\\\\ \n",
    "2\\\\\n",
    "4\\\\\n",
    "1\n",
    "\\end{matrix}\n",
    "\\end{pmatrix}.$\n",
    "<br><br>\n",
    "__Ответ__  \n",
    "В данном случае нет необходимости даже преобразовывать расширенную матрицу. Ранг расширенной матрицы равен рангу матрицы и количеству переменных, следовательно, данная система уравнений имеет единственное решение.  \n",
    "$\\begin{cases}\n",
    "x_1+3x_2-2x_3+4x_4 = 3\\\\\n",
    "5x_2+x_4 = 2\\\\\n",
    "3x_3 = 4\\\\\n",
    "2x_4 = 1\n",
    "\\end{cases}, \\quad x=(\\frac{83}{30},\\frac{3}{10},\\frac{4}{3},\\frac{1}{2})\n",
    "$"
   ]
  },
  {
   "cell_type": "code",
   "execution_count": 5,
   "metadata": {},
   "outputs": [
    {
     "name": "stdout",
     "output_type": "stream",
     "text": [
      "Расширенная матрица системы уравнений:\n",
      "[[ 1  3 -2  4  3]\n",
      " [ 0  5  0  1  2]\n",
      " [ 0  0  3  0  4]\n",
      " [ 0  0  0  2  1]]\n",
      "Ранг матрицы - 4, ранг расширенной матрицы - 4\n",
      "Система линейных уравнений совместная(есть решения), определенная (единственное решение).\n"
     ]
    }
   ],
   "source": [
    "A = np.array([[1,3,-2,4],[0,5,0,1],[0,0,3,0],[0,0,0,2]])\n",
    "b = np.array([[3,2,4,1]])\n",
    "is_consistent(A, b)"
   ]
  },
  {
   "cell_type": "markdown",
   "metadata": {},
   "source": [
    "__Задание 4__  \n",
    "Дана система линейных уравнений, заданная расширенной матрицей\n",
    "\n",
    "$\\tilde{A}=\\begin{pmatrix}\n",
    "\\left.\\begin{matrix}\n",
    "1 & 2 & 3\\\\ \n",
    "4 & 5 & 6\\\\ \n",
    "7 & 8 & 9\n",
    "\\end{matrix}\\right|\n",
    "\\begin{matrix}\n",
    "a\\\\ \n",
    "b\\\\\n",
    "c\n",
    "\\end{matrix}\n",
    "\\end{pmatrix}.$\n",
    "\n",
    "Найти соотношение между параметрами $a$, $b$ и $c$, при которых система является несовместной."
   ]
  },
  {
   "cell_type": "markdown",
   "metadata": {},
   "source": [
    "__Решение__  \n",
    "$\\begin{pmatrix}\n",
    "\\left.\\begin{matrix}\n",
    "1 & 2 & 3\\\\ \n",
    "4 & 5 & 6\\\\ \n",
    "7 & 8 & 9\n",
    "\\end{matrix}\\right|\n",
    "\\begin{matrix}\n",
    "a\\\\ \n",
    "b\\\\\n",
    "c\n",
    "\\end{matrix}\n",
    "\\end{pmatrix}\n",
    "\\rightarrow\n",
    "\\begin{pmatrix}\n",
    "\\left.\\begin{matrix}\n",
    "1 & 2 & 3\\\\ \n",
    "3 & 3 & 3\\\\ \n",
    "3 & 3 & 3\n",
    "\\end{matrix}\\right|\n",
    "\\begin{matrix}\n",
    "a\\\\ \n",
    "b-a\\\\\n",
    "c-b\n",
    "\\end{matrix}\n",
    "\\end{pmatrix}$<br>\n",
    "Система является несовместной если ранг матрицы меньше ранга расширенной матрицы.  \n",
    "То есть при условии - $b-a \\neq c-b,\\quad b \\neq \\frac{c+a}{2}$"
   ]
  },
  {
   "cell_type": "markdown",
   "metadata": {},
   "source": [
    "## Системы линейных уравнений. Часть 2"
   ]
  },
  {
   "cell_type": "markdown",
   "metadata": {},
   "source": [
    "__Задание 5__  \n",
    "Написать на Python программу с реализацией одного из изученных алгоритмов решения СЛАУ."
   ]
  },
  {
   "cell_type": "code",
   "execution_count": 6,
   "metadata": {},
   "outputs": [],
   "source": [
    "def cramer_rule(A, b):\n",
    "    n = len(A)\n",
    "    if n == len(A[0]):\n",
    "        if LA.det(A) == 0:\n",
    "            return print(f'Система уравнений вырождена!')\n",
    "        x = []\n",
    "        for i in range(n):\n",
    "            A_=A.copy()\n",
    "            for j in range(n):\n",
    "                A_[j][i] = b[0][j]\n",
    "            x.append(round(LA.det(A_)/LA.det(A)))\n",
    "        return x\n",
    "    else:\n",
    "        print(f'Метод не применяется для неквадратных матриц!')"
   ]
  },
  {
   "cell_type": "code",
   "execution_count": 7,
   "metadata": {},
   "outputs": [],
   "source": [
    "def find_roots(vec, matrix, start, end):\n",
    "    roots = np.zeros(len(vec))\n",
    "    i = start\n",
    "    while i <= end:\n",
    "        roots[abs(i)]=(vec[abs(i)]-sum(matrix[abs(i)]*roots))/matrix[abs(i)][abs(i)]\n",
    "        i += 1\n",
    "    return roots"
   ]
  },
  {
   "cell_type": "code",
   "execution_count": 8,
   "metadata": {},
   "outputs": [],
   "source": [
    "def linear_LU(matrix_1,vec_b):\n",
    "    n = len(matrix_1)\n",
    "    u = matrix_1.copy()\n",
    "    l = np.eye(n)    \n",
    "    for i in range(n):\n",
    "        for j in range(i+1,n):\n",
    "            x = u[j][i]/u[i][i]\n",
    "            u[j] = u[j]-x*u[i]\n",
    "            l[j][i] = x\n",
    "    print(f'Матрица L:\\n{l}\\n\\\n",
    "    Матрица U:\\n{u}')\n",
    "    y = find_roots(vec_b, l, 0, len(vec_b)-1)\n",
    "    x = find_roots(y, u, -len(y)+1, 0)\n",
    "    return f'Корни уравнения {x}'    "
   ]
  },
  {
   "cell_type": "markdown",
   "metadata": {},
   "source": [
    "__Задание 1__  \n",
    "Решить систему уравнений методом Крамера:\n",
    "\n",
    "   а) $\\begin{cases}\n",
    "x_{1}-2x_{2}=1 \\\\\n",
    "3x_{1}-4x_{2}=7\n",
    "\\end{cases}$<br><br>\n",
    "$det(A)=\\begin{pmatrix}\n",
    "1 & -2\\\\\n",
    "3 & -4\\end{pmatrix}=\n",
    "1*(-4)-3*(-2)=-4+6=2$ <br>\n",
    "$det(A_1)=\\begin{pmatrix}\n",
    "1 & -2\\\\\n",
    "7 & -4\\end{pmatrix}=\n",
    "1*(-4)-7*(-2)=-4+14=10, \\quad\n",
    "det(A_2)=\\begin{pmatrix}\n",
    "1 & 1\\\\\n",
    "3 & 7\\end{pmatrix}=\n",
    "1*7-3*1=7-3=4\n",
    "$<br><br>\n",
    "$x_1=\\frac{det(A_1)}{det(A)}=\\frac{10}{2}=5, \\quad\n",
    "x_2=\\frac{det(A_2)}{det(A)}=\\frac{4}{2}=2$<br><br>\n",
    "__Ответ:__\n",
    "$x=(5,2)$"
   ]
  },
  {
   "cell_type": "code",
   "execution_count": 9,
   "metadata": {},
   "outputs": [
    {
     "data": {
      "text/plain": [
       "[5.0, 2.0]"
      ]
     },
     "execution_count": 9,
     "metadata": {},
     "output_type": "execute_result"
    }
   ],
   "source": [
    "A = np.array([[1,-2],[3,-4]])\n",
    "b = np.array([[1,7]])\n",
    "cramer_rule(A,b)"
   ]
  },
  {
   "cell_type": "markdown",
   "metadata": {},
   "source": [
    "б) $\\begin{cases}\n",
    "2x_{1}-x_{2}+5x_{3}=10 \\\\\n",
    "x_{1}+x_{2}-3x_{3}=-2 \\\\\n",
    "2x_{1}+4x_{2}+x_{3}=1\n",
    "\\end{cases}\n",
    "\\rightarrow\n",
    "\\begin{pmatrix}\n",
    "2 & -1 & 5\\\\\n",
    "1 & 1 & -3\\\\\n",
    "2 & 4 & 1\\end{pmatrix},\\quad \\begin{pmatrix}\n",
    "10\\\\\n",
    "-2\\\\\n",
    "1\\end{pmatrix}$<br><br>\n",
    "\n",
    "$det(A)=2\\cdot\\begin{pmatrix}\n",
    "1 & -3\\\\\n",
    "4 & 1\\end{pmatrix}+1\\cdot\\begin{pmatrix}\n",
    "1 & -3\\\\\n",
    "2 & 1\\end{pmatrix}+5\\cdot\\begin{pmatrix}\n",
    "1 & 1\\\\\n",
    "2 & 4\\end{pmatrix}=\n",
    "2*13+1*7+5*2=43$ <br>\n",
    "\n",
    "$det(A_1)=\\begin{pmatrix}\n",
    "10 & -1 & 5\\\\\n",
    "-2 & 1 & -3\\\\\n",
    "1 & 4 & 1\\end{pmatrix}=\n",
    "10*13+1*(-2+3)+5*(-18-1)=86$ <br>\n",
    "\n",
    "$det(A_2)=\\begin{pmatrix}\n",
    "2 & 10 & 5\\\\\n",
    "1 & -2 & -3\\\\\n",
    "2 & 1 & 1\\end{pmatrix}=\n",
    "2*(-2+3)-10*7+5*(1+4)=-43$ <br>\n",
    "\n",
    "$det(A_3)=\\begin{pmatrix}\n",
    "2 & -1 & 10\\\\\n",
    "1 & 1 & -2\\\\\n",
    "2 & 4 & 1\\end{pmatrix}=\n",
    "2*(1+8)+1(1+4)+10*(4-2)=43$ <br>\n",
    "\n",
    "$x_1=\\frac{det(A_1)}{det(A)}=\\frac{86}{43}=2, \\quad\n",
    "x_2=\\frac{det(A_2)}{det(A)}=\\frac{-43}{43}=-1, \\quad\n",
    "x_3=\\frac{det(A_3)}{det(A)}=\\frac{43}{43}=1$<br><br>\n",
    "__Ответ:__\n",
    "$x=(2,-1,1)$"
   ]
  },
  {
   "cell_type": "code",
   "execution_count": 10,
   "metadata": {},
   "outputs": [
    {
     "data": {
      "text/plain": [
       "[2.0, -1.0, 1.0]"
      ]
     },
     "execution_count": 10,
     "metadata": {},
     "output_type": "execute_result"
    }
   ],
   "source": [
    "A = np.array([[2,-1,5],[1,1,-3],[2,4,1]])\n",
    "b = np.array([[10,-2,1]])\n",
    "cramer_rule(A,b)"
   ]
  },
  {
   "cell_type": "markdown",
   "metadata": {},
   "source": [
    "__Задание 2__  \n",
    "Найти $L$-матрицу $LU$-разложения для матрицы коэффициентов:\n",
    "\n",
    "   а)$\\begin{pmatrix}\n",
    "1 & 2 & 4 \\\\ \n",
    "2 & 9 & 12 \\\\ \n",
    "3 & 26 & 30\n",
    "\\end{pmatrix}, \\quad\n",
    "U=\\begin{pmatrix}\n",
    "1 & 2 & 4 \\\\ \n",
    "0 & 5 & 4 \\\\ \n",
    "0 & 20 & 18\n",
    "\\end{pmatrix}=\\begin{pmatrix}\n",
    "1 & 2 & 4 \\\\ \n",
    "0 & 5 & 4 \\\\ \n",
    "0 & 0 & 2\n",
    "\\end{pmatrix}$<br><br>\n",
    "$L=\\begin{pmatrix}\n",
    "1 & 0 & 0 \\\\ \n",
    "2 & 1 & 0 \\\\ \n",
    "3 & 4 & 1\n",
    "\\end{pmatrix}\n",
    "$"
   ]
  },
  {
   "cell_type": "code",
   "execution_count": 11,
   "metadata": {},
   "outputs": [
    {
     "data": {
      "text/plain": [
       "array([[ 1,  2,  4],\n",
       "       [ 2,  9, 12],\n",
       "       [ 3, 26, 30]])"
      ]
     },
     "execution_count": 11,
     "metadata": {},
     "output_type": "execute_result"
    }
   ],
   "source": [
    "# проверка полученных матриц:\n",
    "u = np.array([[1,2,4],[0,5,4],[0,0,2]])\n",
    "l = np.array([[1,0,0],[2,1,0],[3,4,1]])\n",
    "np.dot(l,u)"
   ]
  },
  {
   "cell_type": "markdown",
   "metadata": {},
   "source": [
    "б)$\\begin{pmatrix}\n",
    "1 & 1 & 2 & 4\\\\ \n",
    "2 & 5 & 8 & 9\\\\ \n",
    "3 & 18 & 29 & 18\\\\\n",
    "4 & 22 & 53 & 33\n",
    "\\end{pmatrix}, \\quad\n",
    "U=\\begin{pmatrix}\n",
    "1 & 1 & 2 & 4\\\\ \n",
    "0 & 3 & 4 & 1\\\\ \n",
    "0 & 15 & 23 & 6\\\\\n",
    "0 & 18 & 45 & 17\n",
    "\\end{pmatrix}=\n",
    "\\begin{pmatrix}\n",
    "1 & 1 & 2 & 4\\\\ \n",
    "0 & 3 & 4 & 1\\\\ \n",
    "0 & 0 & 3 & 1\\\\\n",
    "0 & 0 & 21 & 11\n",
    "\\end{pmatrix}=\n",
    "\\begin{pmatrix}\n",
    "1 & 1 & 2 & 4\\\\ \n",
    "0 & 3 & 4 & 1\\\\ \n",
    "0 & 0 & 3 & 1\\\\\n",
    "0 & 0 & 0 & 4\n",
    "\\end{pmatrix}$<br><br>\n",
    "$L=\\begin{pmatrix}\n",
    "1 & 0 & 0 & 0\\\\ \n",
    "2 & 1 & 0 & 0\\\\ \n",
    "3 & 5 & 1 & 0\\\\\n",
    "4 & 6 & 7 & 1\n",
    "\\end{pmatrix}$"
   ]
  },
  {
   "cell_type": "code",
   "execution_count": 12,
   "metadata": {},
   "outputs": [
    {
     "data": {
      "text/plain": [
       "array([[ 1,  1,  2,  4],\n",
       "       [ 2,  5,  8,  9],\n",
       "       [ 3, 18, 29, 18],\n",
       "       [ 4, 22, 53, 33]])"
      ]
     },
     "execution_count": 12,
     "metadata": {},
     "output_type": "execute_result"
    }
   ],
   "source": [
    "# проверка полученных матриц:\n",
    "u = np.array([[1,1,2,4],[0,3,4,1],[0,0,3,1],[0,0,0,4]])\n",
    "l = np.array([[1,0,0,0],[2,1,0,0],[3,5,1,0],[4,6,7,1]])\n",
    "np.dot(l,u)"
   ]
  },
  {
   "cell_type": "markdown",
   "metadata": {},
   "source": [
    "__Задание 3__  \n",
    "Решить систему линейных уравнений методом $LU$-разложения\n",
    "\n",
    "$\\begin{cases}\n",
    "2x_{1}+x_{2}+3x_{3}=1 \\\\\n",
    "11x_{1}+7x_{2}+5x_{3}=-6 \\\\\n",
    "9x_{1}+8x_{2}+4x_{3}=-5\n",
    "\\end{cases}$"
   ]
  },
  {
   "cell_type": "markdown",
   "metadata": {},
   "source": [
    "__Решение__  \n",
    "$U=\\begin{pmatrix}\n",
    "2 & 1 & 3\\\\ \n",
    "11 & 7 & 5\\\\ \n",
    "9 & 8 & 4\n",
    "\\end{pmatrix}=\n",
    "\\begin{pmatrix}\n",
    "2 & 1 & 3\\\\ \n",
    "0 & 3/2 & -23/2\\\\ \n",
    "0 & 7/2 & -19/2\n",
    "\\end{pmatrix}=\n",
    "\\begin{pmatrix}\n",
    "2 & 1 & 3\\\\ \n",
    "0 & 3/2 & -23/2\\\\ \n",
    "0 & 0 & 52/3\n",
    "\\end{pmatrix}$<br><br>\n",
    "$L=\\begin{pmatrix}\n",
    "1 & 0 & 0\\\\ \n",
    "11/2 & 1 & 0\\\\ \n",
    "9/2 & 7/3 & 1\n",
    "\\end{pmatrix}$<br><br>\n",
    "$Ly=b$<br>\n",
    "$\\begin{cases}\n",
    "y_1 = 1\\\\\n",
    "\\frac{11}{2}y_1+y_2 = -6\\\\\n",
    "\\frac{9}{2}y_1+\\frac{7}{3}y_2 +y_3 = -5\n",
    "\\end{cases}, \\quad\n",
    "\\begin{cases}\n",
    "y_1 = 1\\\\\n",
    "y_2 = -\\frac{23}{2}\\\\\n",
    "y_3 = \\frac{52}{3}\n",
    "\\end{cases}$<br><br>\n",
    "$Ux=y$<br>\n",
    "$\\begin{cases}\n",
    "2x_1 + x_2 +3x_3= 1\\\\\n",
    "\\frac{3}{2}x_2-\\frac{23}{2}x_3 = -\\frac{23}{2}\\\\\n",
    "\\frac{52}{3}x_3= \\frac{52}{3}\n",
    "\\end{cases}, \\quad\n",
    "\\begin{cases}\n",
    "x_1 = -1\\\\\n",
    "x_2 = 0\\\\\n",
    "x_3 = 1\\\\\n",
    "\\end{cases}$<br><br>\n",
    "Проверим подстановкой:<br>\n",
    "$\\begin{cases}\n",
    "2*(-1)+0+3*1=1 \\\\\n",
    "11*(-1)+7*0+5*1=-6 \\\\\n",
    "9*(-1)+8*0+4*1=-5\n",
    "\\end{cases}$"
   ]
  },
  {
   "cell_type": "code",
   "execution_count": 13,
   "metadata": {},
   "outputs": [
    {
     "data": {
      "text/plain": [
       "{x1: -1, x2: 0, x3: 1}"
      ]
     },
     "execution_count": 13,
     "metadata": {},
     "output_type": "execute_result"
    }
   ],
   "source": [
    "import sympy as sym\n",
    "\n",
    "x1, x2, x3 = sym.symbols('x1, x2, x3')\n",
    "\n",
    "A_ = sym.Matrix([[2,1,3,1],[11,7,5,-6],[9,8,4,-5]])\n",
    "sym.solve_linear_system_LU(A_,[x1,x2,x3])"
   ]
  },
  {
   "cell_type": "code",
   "execution_count": 14,
   "metadata": {},
   "outputs": [
    {
     "name": "stdout",
     "output_type": "stream",
     "text": [
      "Матрица L:\n",
      "[[1.         0.         0.        ]\n",
      " [5.5        1.         0.        ]\n",
      " [4.5        2.33333333 1.        ]]\n",
      "    Матрица U:\n",
      "[[  2.           1.           3.        ]\n",
      " [  0.           1.5        -11.5       ]\n",
      " [  0.           0.          17.33333333]]\n",
      "Корни уравнения [-1.  0.  1.]\n"
     ]
    }
   ],
   "source": [
    "print(linear_LU(np.array([[2,1,3],[11,7,5],[9,8,4]],float),np.array([1,-6,-5])))"
   ]
  },
  {
   "cell_type": "markdown",
   "metadata": {},
   "source": [
    "__Задание 4__  \n",
    "Решить систему линейных уравнений методом Холецкого\n",
    "\n",
    "$\\begin{cases}\n",
    "81x_{1}-45x_{2}+45x_{3}=531 \\\\\n",
    "-45x_{1}+50x_{2}-15x_{3}=-460 \\\\\n",
    "45x_{1}-15x_{2}+38x_{3}=193\n",
    "\\end{cases}$"
   ]
  },
  {
   "cell_type": "markdown",
   "metadata": {},
   "source": [
    "$b=(531,-460,193)$<br><br>\n",
    "$l_{11}=\\sqrt{a_{11}}=\\sqrt{81}=9$<br>\n",
    "$l_{21}=\\frac {a_{21}}{l_{11}}=-45/9=-5, \\quad l_{31}=\\frac {a_{31}}{l_{11}}=45/9=5$<br>\n",
    "$l_{22}=\\sqrt {a_{22}-l_{21}^2}=\\sqrt{50-25}=5$<br>\n",
    "$l_{32}=\\frac {1}{l_{22}}\\cdot(a_{32}-l_{21}l_{31})=\\frac{1}{5}\\cdot(-15+5*5)=2$<br>\n",
    "$l_{33}=\\sqrt {a_{33}-l_{31}^2-l_{32}^2}=\\sqrt{38-25-4}=3$<br><br>\n",
    "$L=\\begin{pmatrix}\n",
    "9 & 0 & 0 \\\\\n",
    "-5 & 5 & 0 \\\\\n",
    "5 & 2 & 3\n",
    "\\end{pmatrix}, \\quad L^T=\\begin{pmatrix}\n",
    "9 & -5 & 5 \\\\\n",
    "0 & 5 & 2 \\\\\n",
    "0 & 0 & 3\n",
    "\\end{pmatrix}$<br><br>\n",
    "$Ly=b$<br>\n",
    "$\\begin{cases}\n",
    "9y_1 = 531 \\\\\n",
    "-5y_1 + 5y_2 = -460 \\\\\n",
    "5y_1 + 2y_2 + 3y_3 = 193\n",
    "\\end{cases}, \\quad\n",
    "\\begin{cases}\n",
    "y_1 = 59 \\\\\n",
    "y_2 = -33 \\\\\n",
    "y_3 = -12\n",
    "\\end{cases}$<br><br>\n",
    "$L^Tx=y$<br>\n",
    "$\\begin{cases}\n",
    "9x_1 -5x_2 +5x_3= 59 \\\\\n",
    "5x_2 +2x_3= -33 \\\\\n",
    "3x_3= -12\n",
    "\\end{cases}, \\quad\n",
    "\\begin{cases}\n",
    "x_1 = 6 \\\\\n",
    "x_2 = -5 \\\\\n",
    "x_3 = -4\n",
    "\\end{cases}$"
   ]
  },
  {
   "cell_type": "code",
   "execution_count": 15,
   "metadata": {},
   "outputs": [
    {
     "data": {
      "text/plain": [
       "{x1: 6, x2: -5, x3: -4}"
      ]
     },
     "execution_count": 15,
     "metadata": {},
     "output_type": "execute_result"
    }
   ],
   "source": [
    "A_ = sym.Matrix(((81,-45,45,531),(-45,50,-15,-460),(45,-15,38,193)))\n",
    "sym.solve_linear_system(A_,x1,x2,x3)"
   ]
  },
  {
   "cell_type": "code",
   "execution_count": 16,
   "metadata": {},
   "outputs": [
    {
     "name": "stdout",
     "output_type": "stream",
     "text": [
      "Матрица L:\n",
      "[[ 1.          0.          0.        ]\n",
      " [-0.55555556  1.          0.        ]\n",
      " [ 0.55555556  0.4         1.        ]]\n",
      "    Матрица U:\n",
      "[[ 81. -45.  45.]\n",
      " [  0.  25.  10.]\n",
      " [  0.   0.   9.]]\n",
      "Корни уравнения [ 6. -5. -4.]\n"
     ]
    }
   ],
   "source": [
    "print(linear_LU(np.array([[81,-45,45],[-45,50,-15],[45,-15,38]],float),np.array([531,-460,193])))"
   ]
  }
 ],
 "metadata": {
  "kernelspec": {
   "display_name": "Python 3",
   "language": "python",
   "name": "python3"
  },
  "language_info": {
   "codemirror_mode": {
    "name": "ipython",
    "version": 3
   },
   "file_extension": ".py",
   "mimetype": "text/x-python",
   "name": "python",
   "nbconvert_exporter": "python",
   "pygments_lexer": "ipython3",
   "version": "3.8.3"
  }
 },
 "nbformat": 4,
 "nbformat_minor": 4
}
